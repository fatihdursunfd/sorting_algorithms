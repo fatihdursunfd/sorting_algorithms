{
  "nbformat": 4,
  "nbformat_minor": 0,
  "metadata": {
    "colab": {
      "name": "selection_sort.ipynb",
      "provenance": [],
      "authorship_tag": "ABX9TyO+kaJDwc8ArYa2tpMqC4/R",
      "include_colab_link": true
    },
    "kernelspec": {
      "name": "python3",
      "display_name": "Python 3"
    }
  },
  "cells": [
    {
      "cell_type": "markdown",
      "metadata": {
        "id": "view-in-github",
        "colab_type": "text"
      },
      "source": [
        "<a href=\"https://colab.research.google.com/github/fatihdursunfd/sorting_algorithms/blob/fd/selection_sort.ipynb\" target=\"_parent\"><img src=\"https://colab.research.google.com/assets/colab-badge.svg\" alt=\"Open In Colab\"/></a>"
      ]
    },
    {
      "cell_type": "code",
      "metadata": {
        "id": "c6HtXkLcM57B"
      },
      "source": [
        "def selection_sort(m_list):\n",
        "\n",
        "    iteration = 0\n",
        "    length = len(m_list)\n",
        "\n",
        "    for i in range(0,length):\n",
        "        index = i\n",
        "        for j in range(i+1 , length):\n",
        "            iteration = iteration + 1\n",
        "            if(m_list[index] > m_list[j]):\n",
        "              index = j\n",
        "        m_list[i] , m_list[index] = m_list[index] , m_list[i] \n",
        "\n",
        "\n",
        "    print(\"number of iterations : \",iteration)\n",
        "    print(\"ordered list : \",m_list)"
      ],
      "execution_count": null,
      "outputs": []
    },
    {
      "cell_type": "code",
      "metadata": {
        "id": "F1d6oNRJMx_d",
        "colab": {
          "base_uri": "https://localhost:8080/",
          "height": 51
        },
        "outputId": "d663150a-9998-4146-f185-0f155c490890"
      },
      "source": [
        "m_list = [12, 11, 13, 5, 6 , 4 ,17 ,0 ,-9 ,47] \n",
        "selection_sort(m_list)"
      ],
      "execution_count": null,
      "outputs": [
        {
          "output_type": "stream",
          "text": [
            "number of iterations :  45\n",
            "ordered list :  [-9, 0, 4, 5, 6, 11, 12, 13, 17, 47]\n"
          ],
          "name": "stdout"
        }
      ]
    }
  ]
}