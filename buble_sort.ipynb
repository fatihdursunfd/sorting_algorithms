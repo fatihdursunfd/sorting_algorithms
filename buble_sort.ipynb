{
  "nbformat": 4,
  "nbformat_minor": 0,
  "metadata": {
    "colab": {
      "name": "buble_sort.ipynb",
      "provenance": [],
      "authorship_tag": "ABX9TyO3GutpR7YmdjGtw0Nt52h2",
      "include_colab_link": true
    },
    "kernelspec": {
      "name": "python3",
      "display_name": "Python 3"
    }
  },
  "cells": [
    {
      "cell_type": "markdown",
      "metadata": {
        "id": "view-in-github",
        "colab_type": "text"
      },
      "source": [
        "<a href=\"https://colab.research.google.com/github/fatihdursunfd/sorting_algorithms/blob/fd/buble_sort.ipynb\" target=\"_parent\"><img src=\"https://colab.research.google.com/assets/colab-badge.svg\" alt=\"Open In Colab\"/></a>"
      ]
    },
    {
      "cell_type": "code",
      "metadata": {
        "id": "rGNvHfxli2Qg",
        "colab": {
          "base_uri": "https://localhost:8080/",
          "height": 85
        },
        "outputId": "4a4a3751-4e3f-4778-b5bd-30947889fdb3"
      },
      "source": [
        "list = [77,2,4,11,1,85,12,35,65,10,8,7,3,7,58]\n",
        "list2 = [19,2,31,45,6,11,121,27]\n",
        "\n",
        "buble_sort(list)\n",
        "buble_sort_2(list2)"
      ],
      "execution_count": null,
      "outputs": [
        {
          "output_type": "stream",
          "text": [
            "number of iterations : 120\n",
            "sorted list : [1, 2, 3, 4, 7, 7, 8, 10, 11, 12, 35, 58, 65, 77, 85]\n",
            "number of iterations : 7\n",
            "sorted list : [2, 19, 31, 19, 19, 45, 19, 121]\n"
          ],
          "name": "stdout"
        }
      ]
    },
    {
      "cell_type": "code",
      "metadata": {
        "id": "5e13wYNcjJAY"
      },
      "source": [
        "def buble_sort(list):\n",
        "    length = len(list)\n",
        "    counter = 0 \n",
        "    for i in range(0,length):\n",
        "        for j in range(i,length):\n",
        "            counter = counter + 1\n",
        "            if( list[i] > list[j] ):\n",
        "                temp = list[i]\n",
        "                list[i] = list[j]\n",
        "                list[j] = temp\n",
        "\n",
        "    print(\"number of iterations :\",counter)\n",
        "    print(\"sorted list :\",list)\n"
      ],
      "execution_count": null,
      "outputs": []
    },
    {
      "cell_type": "code",
      "metadata": {
        "id": "J0RSWmrLkVM0"
      },
      "source": [
        "def buble_sort_2(list):\n",
        "\n",
        "    length = len(list)\n",
        "    isSwap= True\n",
        "    counter = 0\n",
        "\n",
        "    for i in range(0,length-1):\n",
        "          counter = counter + 1 \n",
        "          if( list[i] > list[i+1] ):\n",
        "                temp = list[i]\n",
        "                list[i] = list[1]\n",
        "                list[i+1] = temp\n",
        "\n",
        "    print(\"number of iterations :\",counter)\n",
        "    print(\"sorted list :\",list)\n"
      ],
      "execution_count": null,
      "outputs": []
    }
  ]
}