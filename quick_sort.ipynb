{
  "nbformat": 4,
  "nbformat_minor": 0,
  "metadata": {
    "colab": {
      "name": "quick_sort.ipynb",
      "provenance": [],
      "authorship_tag": "ABX9TyPxnInosDG4FW4DuqwfVGPK",
      "include_colab_link": true
    },
    "kernelspec": {
      "name": "python3",
      "display_name": "Python 3"
    }
  },
  "cells": [
    {
      "cell_type": "markdown",
      "metadata": {
        "id": "view-in-github",
        "colab_type": "text"
      },
      "source": [
        "<a href=\"https://colab.research.google.com/github/fatihdursunfd/sorting_algorithms/blob/fd/quick_sort.ipynb\" target=\"_parent\"><img src=\"https://colab.research.google.com/assets/colab-badge.svg\" alt=\"Open In Colab\"/></a>"
      ]
    },
    {
      "cell_type": "code",
      "metadata": {
        "id": "PcyjaCdOPtOV"
      },
      "source": [
        "def quick_sort(m_list , low , high):\n",
        "  if(low < high) :\n",
        "      pi = partition(m_list , low , high)\n",
        "      quick_sort(m_list , low , pi - 1)\n",
        "      quick_sort(m_list , pi + 1 , high)"
      ],
      "execution_count": null,
      "outputs": []
    },
    {
      "cell_type": "code",
      "metadata": {
        "id": "UoHCgTSkSELX"
      },
      "source": [
        "def partition(m_list , low , high):\n",
        "  i = low - 1 \n",
        "  pivot = m_list[high]\n",
        "\n",
        "  for j in range(low , high):\n",
        "      if (m_list[j] < pivot):\n",
        "          i = i + 1\n",
        "          m_list[i],m_list[j] = m_list[j],m_list[i]  \n",
        "\n",
        "  m_list[i+1],m_list[high] = m_list[high],m_list[i+1] \n",
        "  return ( i+1 ) "
      ],
      "execution_count": null,
      "outputs": []
    },
    {
      "cell_type": "code",
      "metadata": {
        "id": "ecG0gSbzRs-t",
        "colab": {
          "base_uri": "https://localhost:8080/",
          "height": 34
        },
        "outputId": "da113c10-7414-4231-9767-859de32fe378"
      },
      "source": [
        "m_list = [12, 11, 13, 5, 6 , 4 ,17 ,0 ,-9 ,47]\n",
        "length = len(m_list)\n",
        "quick_sort(m_list , 0 , length - 1 )\n",
        "print(\"sorted list : \", m_list)"
      ],
      "execution_count": null,
      "outputs": [
        {
          "output_type": "stream",
          "text": [
            "sorted list :  [-9, 0, 4, 5, 6, 11, 12, 13, 17, 47]\n"
          ],
          "name": "stdout"
        }
      ]
    }
  ]
}