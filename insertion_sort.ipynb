{
  "nbformat": 4,
  "nbformat_minor": 0,
  "metadata": {
    "colab": {
      "name": "insertion_sort.ipynb",
      "provenance": [],
      "authorship_tag": "ABX9TyPRFYTJsZNokfhmRfvwa2Va",
      "include_colab_link": true
    },
    "kernelspec": {
      "name": "python3",
      "display_name": "Python 3"
    }
  },
  "cells": [
    {
      "cell_type": "markdown",
      "metadata": {
        "id": "view-in-github",
        "colab_type": "text"
      },
      "source": [
        "<a href=\"https://colab.research.google.com/github/fatihdursunfd/sorting_algorithms/blob/fd/insertion_sort.ipynb\" target=\"_parent\"><img src=\"https://colab.research.google.com/assets/colab-badge.svg\" alt=\"Open In Colab\"/></a>"
      ]
    },
    {
      "cell_type": "code",
      "metadata": {
        "id": "-S1jr95hKzlE"
      },
      "source": [
        "def insertion_sort(m_list):\n",
        "    length = len(m_list)\n",
        "    iteration = 0 \n",
        "    for i in range(0,length):\n",
        "        for j in range(i+1,length):\n",
        "          iteration = iteration + 1\n",
        "          if(m_list[i] > m_list[j]):\n",
        "            m_list[i] , m_list[j] = m_list[j] , m_list[i]\n",
        "\n",
        "    print(\"number of iterations : \",iteration)\n",
        "    print(\"ordered list : \",m_list)"
      ],
      "execution_count": null,
      "outputs": []
    },
    {
      "cell_type": "code",
      "metadata": {
        "id": "M3VN6_N7Ls8l",
        "colab": {
          "base_uri": "https://localhost:8080/",
          "height": 51
        },
        "outputId": "fba8b0f8-e555-4cbc-afbd-1c525c7cb5f7"
      },
      "source": [
        "m_list = [12, 11, 13, 5, 6 , 4 ,17 ,0 ,-9 ,47] \n",
        "insertion_sort(m_list)"
      ],
      "execution_count": null,
      "outputs": [
        {
          "output_type": "stream",
          "text": [
            "number of iterations :  45\n",
            "ordered list :  [-9, 0, 4, 5, 6, 11, 12, 13, 17, 47]\n"
          ],
          "name": "stdout"
        }
      ]
    }
  ]
}